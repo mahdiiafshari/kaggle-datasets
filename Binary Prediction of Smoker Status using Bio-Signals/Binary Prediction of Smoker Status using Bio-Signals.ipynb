{
 "cells": [
  {
   "cell_type": "code",
   "execution_count": 1,
   "id": "07c941ab",
   "metadata": {},
   "outputs": [],
   "source": [
    "# =====================\n",
    "# Core Libraries\n",
    "# =====================\n",
    "import numpy as np\n",
    "import pandas as pd\n",
    "\n",
    "# =====================\n",
    "# Visualization\n",
    "# =====================\n",
    "import seaborn as sns\n",
    "import matplotlib.pyplot as plt\n",
    "\n",
    "# =====================\n",
    "# Preprocessing\n",
    "# =====================\n",
    "from sklearn.preprocessing import LabelEncoder, MultiLabelBinarizer, StandardScaler, PolynomialFeatures\n",
    "from sklearn.impute import KNNImputer\n",
    "\n",
    "# =====================\n",
    "# Model Selection & Tuning\n",
    "# =====================\n",
    "from sklearn.model_selection import train_test_split, GridSearchCV, RandomizedSearchCV\n",
    "\n",
    "# =====================\n",
    "# Regression Models\n",
    "# =====================\n",
    "from sklearn.linear_model import LinearRegression, Ridge, Lasso\n",
    "from sklearn.neural_network import MLPRegressor\n",
    "\n",
    "# =====================\n",
    "# Classification Models\n",
    "# =====================\n",
    "from sklearn.linear_model import LogisticRegression\n",
    "from sklearn.neural_network import MLPClassifier\n",
    "from xgboost import XGBClassifier\n",
    "from sklearn.svm import SVC\n",
    "\n",
    "# =====================\n",
    "# Pipelines\n",
    "# =====================\n",
    "from sklearn.pipeline import Pipeline\n",
    "\n",
    "# =====================\n",
    "# Metrics\n",
    "# =====================\n",
    "from sklearn.metrics import (confusion_matrix, roc_curve, precision_recall_curve,\n",
    "                             roc_auc_score, precision_score,\n",
    "                             recall_score, f1_score , accuracy_score)\n",
    "\n",
    "# =====================\n",
    "# Other Useful Tools\n",
    "# =====================\n",
    "from sklearn.datasets import make_regression\n",
    "from numpy import log1p\n"
   ]
  },
  {
   "cell_type": "code",
   "execution_count": 2,
   "id": "43ee51d7",
   "metadata": {},
   "outputs": [],
   "source": [
    "data = pd.read_csv(\"train.csv\")"
   ]
  },
  {
   "cell_type": "code",
   "execution_count": null,
   "id": "c279f4eb",
   "metadata": {},
   "outputs": [],
   "source": [
    "data"
   ]
  },
  {
   "cell_type": "code",
   "execution_count": 3,
   "id": "b26a3547",
   "metadata": {},
   "outputs": [],
   "source": [
    "x = data.drop(\"smoking\" ,axis=1)\n",
    "y = data[\"smoking\"]\n",
    "x_train,x_test,y_train,y_test = train_test_split(x  ,y , random_state=42,test_size=0.2)"
   ]
  },
  {
   "cell_type": "code",
   "execution_count": null,
   "id": "d83dcae6",
   "metadata": {},
   "outputs": [],
   "source": [
    "pipeline = Pipeline([\n",
    "    ('scaler', StandardScaler()),\n",
    "    ('lgb', lgb.LGBMClassifier(objective='binary', random_state=42, n_jobs=-1, n_estimators=1000))\n",
    "])\n",
    "\n",
    "# Randomized hyperparameter distribution\n",
    "param_dist = {\n",
    "    'lgb__num_leaves': [31, 50, 70],\n",
    "    'lgb__max_depth': [-1, 10, 20],\n",
    "    'lgb__learning_rate': [0.01, 0.05, 0.1],\n",
    "    'lgb__min_child_samples': [10, 20, 30],\n",
    "    'lgb__subsample': [0.6, 0.8, 1.0],\n",
    "    'lgb__colsample_bytree': [0.6, 0.8, 1.0]\n",
    "}\n",
    "\n",
    "# Use RandomizedSearchCV with fewer iterations\n",
    "random_search = RandomizedSearchCV(\n",
    "    pipeline,\n",
    "    param_distributions=param_dist,\n",
    "    n_iter=20,                # Try only 20 parameter combos\n",
    "    scoring='accuracy',\n",
    "    cv=2,                    # 2-fold CV for speed\n",
    "    verbose=2,\n",
    "    n_jobs=-1,\n",
    "    random_state=42\n",
    ")\n",
    "\n",
    "# Fit with early stopping callback passed via fit_params\n",
    "random_search.fit(\n",
    "    x_train, y_train,\n",
    "    lgb__eval_set=[(x_test, y_test)],\n",
    ")\n",
    "\n",
    "# Results\n",
    "print(\"Best params:\", random_search.best_params_)\n",
    "print(\"Best CV accuracy:\", random_search.best_score_)\n",
    "\n",
    "# Evaluate on validation set\n",
    "best_model = random_search.best_estimator_\n",
    "y_pred = best_model.predict(x_test)\n",
    "print(\"Validation accuracy:\", confusion_matrix(x_test, y_pred))"
   ]
  },
  {
   "cell_type": "code",
   "execution_count": 11,
   "id": "5da6990c",
   "metadata": {},
   "outputs": [
    {
     "name": "stdout",
     "output_type": "stream",
     "text": [
      "Validation accuracy: 0.7798254426723596\n"
     ]
    }
   ],
   "source": [
    "print(\"Validation accuracy:\", accuracy_score(y_test, y_pred))"
   ]
  },
  {
   "cell_type": "code",
   "execution_count": 13,
   "id": "2bf598fe",
   "metadata": {},
   "outputs": [],
   "source": [
    "test = pd.read_csv(\"test.csv\")"
   ]
  },
  {
   "cell_type": "code",
   "execution_count": 14,
   "id": "88ee461c",
   "metadata": {},
   "outputs": [
    {
     "name": "stderr",
     "output_type": "stream",
     "text": [
      "d:\\projects\\kaggle-datasets\\.venv\\Lib\\site-packages\\sklearn\\utils\\validation.py:2749: UserWarning: X does not have valid feature names, but LGBMClassifier was fitted with feature names\n",
      "  warnings.warn(\n"
     ]
    }
   ],
   "source": [
    "y_pred = best_model.predict(test)"
   ]
  },
  {
   "cell_type": "code",
   "execution_count": 15,
   "id": "4ba72c3d",
   "metadata": {},
   "outputs": [],
   "source": [
    "submission = pd.DataFrame({\n",
    "    \"id\": test[\"id\"],\n",
    "    \"smoking\": y_pred\n",
    "})"
   ]
  },
  {
   "cell_type": "code",
   "execution_count": 16,
   "id": "c9673d5f",
   "metadata": {},
   "outputs": [],
   "source": [
    "submission.to_csv(\"submission.csv\",index=False)"
   ]
  }
 ],
 "metadata": {
  "kernelspec": {
   "display_name": ".venv (3.13.2)",
   "language": "python",
   "name": "python3"
  },
  "language_info": {
   "codemirror_mode": {
    "name": "ipython",
    "version": 3
   },
   "file_extension": ".py",
   "mimetype": "text/x-python",
   "name": "python",
   "nbconvert_exporter": "python",
   "pygments_lexer": "ipython3",
   "version": "3.13.2"
  }
 },
 "nbformat": 4,
 "nbformat_minor": 5
}
